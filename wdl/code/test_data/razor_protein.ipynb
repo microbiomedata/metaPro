{
 "cells": [
  {
   "cell_type": "code",
   "execution_count": 1,
   "id": "3bed7c9b-1565-4695-946a-8cac9ccf8fc2",
   "metadata": {},
   "outputs": [],
   "source": [
    "import pandas as pd\n",
    "import os\n",
    "import functools\n",
    "pd.options.mode.chained_assignment = None"
   ]
  },
  {
   "cell_type": "code",
   "execution_count": 2,
   "id": "cfbb7c15-eb18-4922-b9e7-fce38ee94b17",
   "metadata": {},
   "outputs": [],
   "source": [
    "def write_df_excel(df: pd.DataFrame, sheet_name: str, create_writer = False, close = False) -> None:\n",
    "    \"\"\"\n",
    "    Write a single DataFrame to an excel file.\n",
    "    \"\"\"\n",
    "    global writer \n",
    "    if create_writer:\n",
    "        writer = pd.ExcelWriter(f\"results/razor_protein.xlsx\")\n",
    "    df.to_excel(writer, sheet_name=sheet_name, index=False)\n",
    "    if close:\n",
    "        writer.close()"
   ]
  },
  {
   "cell_type": "code",
   "execution_count": 3,
   "id": "c2414ca0-1f7f-427c-9f09-2301d636b9db",
   "metadata": {},
   "outputs": [],
   "source": [
    "def write_df_excel_wrap(func):\n",
    "    \"\"\"\n",
    "    Wrap another function that returns a DataFrame and write it to an excel file.\n",
    "    \"\"\"\n",
    "    @functools.wraps(func)\n",
    "    def capture(*args, **kwargs):\n",
    "        result_df: pd.DataFrame = func(*args, **kwargs)   \n",
    "        write_df_excel(result_df, func.__name__)\n",
    "        return result_df\n",
    "    return capture"
   ]
  },
  {
   "cell_type": "code",
   "execution_count": 4,
   "id": "727113e5-5992-41ee-8820-615691de4869",
   "metadata": {},
   "outputs": [],
   "source": [
    "def FiltPeps(df: pd.DataFrame) -> pd.DataFrame:\n",
    "    \"\"\"\n",
    "    Filter for 5% FDR, remove decoy proteins, and extract peptide sequence \n",
    "    \"\"\"\n",
    "    qvalue_filtered_df = df[df[\"QValue\"] <= 0.05]\n",
    "    non_decoy_filtered_df = qvalue_filtered_df[~qvalue_filtered_df[\"Protein\"].str.startswith(\"XXX\")]\n",
    "    non_decoy_filtered_df[\"PeptideSequence\"] = non_decoy_filtered_df[\"Peptide\"].str.extract(r\"\\.(.*)\\.\")\n",
    "    return non_decoy_filtered_df"
   ]
  },
  {
   "cell_type": "code",
   "execution_count": 5,
   "id": "a806cfee-6b94-4d9a-9243-2b3d7daecf81",
   "metadata": {},
   "outputs": [],
   "source": [
    "def get_FiltPeps(df: pd.DataFrame) -> pd.DataFrame:\n",
    "    \"\"\"\n",
    "    Get filtered peptide results and return DataFrame in a shape we want to use\n",
    "    \"\"\"\n",
    "    FiltPeps_df = FiltPeps(df)\n",
    "    return (\n",
    "        FiltPeps_df[[\"PeptideSequence\", \"Protein\"]]\n",
    "        .drop_duplicates()\n",
    "        .sort_values(by=[\"PeptideSequence\"])\n",
    "    )"
   ]
  },
  {
   "cell_type": "code",
   "execution_count": 6,
   "id": "8a0dbb5c-c720-4ab8-afa4-efd6993b3b6d",
   "metadata": {},
   "outputs": [],
   "source": [
    "# Read resultant .tsv\n",
    "resultant_df = pd.read_csv(\"SpruceW_P19_15_22Jun17_Pippin_17-04-06_msgfplus_syn_PlusSICStats.txt\", sep=\"\\t\", float_precision=\"round_trip\")\n",
    "\n",
    "#write_df_excel(resultant_df, \"1, resultant\", True)"
   ]
  },
  {
   "cell_type": "code",
   "execution_count": 7,
   "id": "bc8d4700-e66a-4f45-9722-283aca1210da",
   "metadata": {},
   "outputs": [],
   "source": [
    "# Get filtered peptide <-> protein table. (query_1)\n",
    "temp_df = resultant_df.copy()\n",
    "filt_peps_df = get_FiltPeps(temp_df).drop_duplicates().sort_values(by=[\"PeptideSequence\"])\n",
    "\n",
    "#write_df_excel(filt_peps_df, \"2, filtered 0.05 fdr\")"
   ]
  },
  {
   "cell_type": "code",
   "execution_count": 8,
   "id": "a4172be2-2cda-42ca-95bd-6e6a585e508d",
   "metadata": {},
   "outputs": [],
   "source": [
    "# count all peptides per protein, flatten results. (query_2)\n",
    "temp_df = resultant_df.copy()\n",
    "FiltPeps_df = get_FiltPeps(temp_df)\n",
    "grouped_by_protein = FiltPeps_df.groupby(\"Protein\")\n",
    "counted_peptides_df = grouped_by_protein[\"PeptideSequence\"].count().reset_index(name=\"peptides_per_protein\")\n",
    "\n",
    "#write_df_excel(counted_peptides_df, \"3, peptides_per_protein\")"
   ]
  },
  {
   "cell_type": "code",
   "execution_count": 9,
   "id": "f6bef466-a02e-440a-8c80-913276327b56",
   "metadata": {},
   "outputs": [],
   "source": [
    "# count all proteins per peptides, flatten results. (query_3)\n",
    "temp_df = resultant_df.copy()\n",
    "FiltPeps_df = get_FiltPeps(temp_df)\n",
    "grouped_by_peptide = FiltPeps_df.groupby(\"PeptideSequence\")\n",
    "counted_protein_df = grouped_by_peptide[\"Protein\"].count().reset_index(name=\"proteins_per_peptide\")\n",
    "\n",
    "#write_df_excel(counted_protein_df, \"4, proteins_per_peptide\")"
   ]
  },
  {
   "cell_type": "code",
   "execution_count": 10,
   "id": "9c00e47b-2aa4-47fd-bf3e-2a64a0d89abc",
   "metadata": {},
   "outputs": [
    {
     "name": "stdout",
     "output_type": "stream",
     "text": [
      "                               Protein         PeptideSequence  \\\n",
      "0      nmdc:mga0wn63_328416_c1_556_681            AAAAAKSEAAPK   \n",
      "1        nmdc:mga0wn63_731999_c1_3_410            AAAADAGQPLWR   \n",
      "2     nmdc:mga0wn63_164_c1_30348_31634            AAAADYGLPLYR   \n",
      "3        nmdc:mga0wn63_431891_c1_2_571         AAAANSDQQLQQAVR   \n",
      "4        nmdc:mga0wn63_951089_c1_1_342  AAAAQAAGYFTEQILPVEVAGK   \n",
      "...                                ...                     ...   \n",
      "5680  nmdc:mga0wn63_143199_c1_253_1158              YYQDNLDQFK   \n",
      "5681    nmdc:mga0wn63_2243_c1_374_4312           YYQTQLYAQDTWK   \n",
      "5682   nmdc:mga0wn63_5268_c1_5907_6251               YYRLTAAGR   \n",
      "5683  nmdc:mga0wn63_14203_c1_2827_4140                 YYTPSGR   \n",
      "5684     nmdc:mga0wn63_74401_c1_1_1581                 YYTPSGR   \n",
      "\n",
      "      peptides_per_protein  proteins_per_peptide  \n",
      "0                        1                     1  \n",
      "1                        1                     1  \n",
      "2                        2                     1  \n",
      "3                        1                     1  \n",
      "4                        1                     1  \n",
      "...                    ...                   ...  \n",
      "5680                     1                     1  \n",
      "5681                     2                     1  \n",
      "5682                     1                     1  \n",
      "5683                     2                     2  \n",
      "5684                     1                     2  \n",
      "\n",
      "[5685 rows x 4 columns]\n"
     ]
    }
   ],
   "source": [
    "# merge the results into a filtered master list for us to work with. (query_4)\n",
    "merge_1 = filt_peps_df.merge(counted_peptides_df, how=\"inner\", on=\"Protein\")\n",
    "merge_3 = merge_1.merge(counted_protein_df, how=\"inner\", on=\"PeptideSequence\")\n",
    "col_of_interest = [\"Protein\", \"PeptideSequence\", \"peptides_per_protein\", \"proteins_per_peptide\"]\n",
    "peptide_protein_map_with_count_df = merge_3[col_of_interest].sort_values(by=[\"PeptideSequence\"])\n",
    "\n",
    "#write_df_excel(peptide_protein_map_with_count_df, \"5, merge\")\n",
    "\n",
    "print(peptide_protein_map_with_count_df)"
   ]
  },
  {
   "cell_type": "code",
   "execution_count": 11,
   "id": "d2e0e3e1-3fcd-488f-ac2b-3fb148475871",
   "metadata": {},
   "outputs": [],
   "source": [
    "# PEPTIDE <-> RAZOR PROTEIN ASSOCIATION"
   ]
  },
  {
   "cell_type": "code",
   "execution_count": 12,
   "id": "70a55a98-96c7-4f58-8587-5fea9d0426f5",
   "metadata": {},
   "outputs": [
    {
     "name": "stdout",
     "output_type": "stream",
     "text": [
      "             PeptideSequence                           Protein\n",
      "0               AAAAAKSEAAPK   nmdc:mga0wn63_328416_c1_556_681\n",
      "1               AAAADAGQPLWR     nmdc:mga0wn63_731999_c1_3_410\n",
      "2               AAAADYGLPLYR  nmdc:mga0wn63_164_c1_30348_31634\n",
      "3            AAAANSDQQLQQAVR     nmdc:mga0wn63_431891_c1_2_571\n",
      "4     AAAAQAAGYFTEQILPVEVAGK     nmdc:mga0wn63_951089_c1_1_342\n",
      "...                      ...                               ...\n",
      "5676           YYGHRYYRGYWHR  nmdc:mga0wn63_35292_c1_1633_1878\n",
      "5677               YYLQKVVPK    nmdc:mga0wn63_1020302_c1_2_337\n",
      "5680              YYQDNLDQFK  nmdc:mga0wn63_143199_c1_253_1158\n",
      "5681           YYQTQLYAQDTWK    nmdc:mga0wn63_2243_c1_374_4312\n",
      "5682               YYRLTAAGR   nmdc:mga0wn63_5268_c1_5907_6251\n",
      "\n",
      "[4717 rows x 2 columns]\n"
     ]
    }
   ],
   "source": [
    "# First case\n",
    "peps_with_1_protein = peptide_protein_map_with_count_df[peptide_protein_map_with_count_df[\"proteins_per_peptide\"] == 1]\n",
    "\n",
    "# FIRST COLLECTION OF PEPTIDE <->  RAZOR PROTEIN RELATIONSHIPS\n",
    "non_degenerate_razor_protein_df = peps_with_1_protein[[\"PeptideSequence\", \"Protein\"]]\n",
    "\n",
    "#write_df_excel(non_degenerate_razor_protein_df, \"6, prots_per_peps == 1 -> RP\")\n",
    "print(non_degenerate_razor_protein_df)"
   ]
  },
  {
   "cell_type": "code",
   "execution_count": 13,
   "id": "78f03f9f-a580-4abd-b0dc-c59315f8da1d",
   "metadata": {},
   "outputs": [],
   "source": [
    "# Get table that lists multiple peptide sequences, we want all peptides that are associated with MULTIPLE proteins\n",
    "peps_with_many_proteins = peptide_protein_map_with_count_df[peptide_protein_map_with_count_df[\"proteins_per_peptide\"] > 1]\n",
    "degenerate_peptide_list = peps_with_many_proteins[[\"PeptideSequence\", \"Protein\"]]\n",
    "\n",
    "#write_df_excel(peps_with_many_proteins, \"7, prots_per_peps > 1\")\n",
    "\n",
    "# - find peptides where more than one NonDegereate_razor_protein_list member is associated (get all peptides in NonNonDegereate_razor_protein_list [a])\n",
    "#   - merge Degenerate_peptide_list with NonDegenerate_razor_protein_list on peptide (take table 4) //(all peptides with protein count > 1 where the protein is in NonDegereate_razor_protein_list)\n",
    "#   - group by peptide and count NonDegenerate_razor_protein_list members -> NonDegenerate_razor_protein_list_member_count (peptide, proteins_per_peptide)\n",
    "# Remove ALL proteins NOT found in Non-Degen set\n",
    "non_degenerate_protein_set = set(non_degenerate_razor_protein_df['Protein'].unique())\n",
    "NonDegenerate_razor_protein_list_member_int_df = peps_with_many_proteins[peps_with_many_proteins['Protein'].isin(non_degenerate_protein_set)]\n",
    "\n",
    "#write_df_excel(NonDegenerate_razor_protein_list_member_int_df, \"8, '7' in non-degen set\")"
   ]
  },
  {
   "cell_type": "code",
   "execution_count": 14,
   "id": "19207c24-7e40-4fee-9f70-4bc76ac0bbfa",
   "metadata": {},
   "outputs": [
    {
     "name": "stdout",
     "output_type": "stream",
     "text": [
      "        PeptideSequence                           Protein\n",
      "73    AAVEEGIVPGGGVALAR  nmdc:mga0wn63_379_c1_32789_34459\n",
      "171         AFEKDVLPLLR     nmdc:mga0wn63_334658_c1_1_273\n",
      "180         AFFFGAYEGQR    nmdc:mga0wn63_43302_c1_94_2394\n",
      "506        AVAAGLNPMDLK     nmdc:mga0wn63_435591_c1_3_536\n",
      "536         AVGELMENQFR    nmdc:mga0wn63_9_c1_95095_99576\n",
      "...                 ...                               ...\n",
      "5507          YFGPSTLDR    nmdc:mga0wn63_3933_c1_950_4651\n",
      "5627        YTGEPISVNLK    nmdc:mga0wn63_109129_c1_3_1373\n",
      "5660       YVQATEAPIQAK   nmdc:mga0wn63_3987_c1_4243_4986\n",
      "5678    YYLTTDGPNKVDASR   nmdc:mga0wn63_37592_c1_469_2136\n",
      "5683            YYTPSGR  nmdc:mga0wn63_14203_c1_2827_4140\n",
      "\n",
      "[77 rows x 2 columns]\n"
     ]
    }
   ],
   "source": [
    "#- for NonDegenerate_razor_protein_list_member_count = 1 -> Degenerate_peptides_with_only_unique_protein (peptide, razor_protein)\n",
    "# We have grouped on peptide for the set of proteins_per_peptide > 1 and removed any rows whose Proteins are NOT in the non-degen set\n",
    "# therefore, we only need to look for unique entries to find protein to razor protein mapping for this collection of degen peptides\n",
    "\n",
    "# SECOND COLLECTION OF PEPTIDE <->  RAZOR PROTEIN RELATIONSHIPS\n",
    "Degenerate_peptides_with_only_unique_protein =  NonDegenerate_razor_protein_list_member_int_df.drop_duplicates(subset=['PeptideSequence'], keep=False, inplace=False)[['PeptideSequence', 'Protein']]\n",
    "\n",
    "#write_df_excel(Degenerate_peptides_with_only_unique_protein, \"9, '8' but unique -> RP\")\n",
    "print(Degenerate_peptides_with_only_unique_protein)"
   ]
  },
  {
   "cell_type": "code",
   "execution_count": 15,
   "id": "c84637ae-a87b-4c59-af7f-a63c242ac243",
   "metadata": {},
   "outputs": [
    {
     "name": "stdout",
     "output_type": "stream",
     "text": [
      "                               Protein               PeptideSequence  \\\n",
      "908       nmdc:mga0wn63_84419_c1_3_629                 DYLVTDKGIDASR   \n",
      "907      nmdc:mga0wn63_156896_c1_3_971                 DYLVTDKGIDASR   \n",
      "1024    nmdc:mga0wn63_9_c1_95095_99576      EFFGSSQLSQFMDQTNPLSEITHK   \n",
      "1025     nmdc:mga0wn63_725835_c1_3_413      EFFGSSQLSQFMDQTNPLSEITHK   \n",
      "1027    nmdc:mga0wn63_131868_c1_2_1219      EFFGSSQLSQFMDQTNPLSEITHK   \n",
      "1167   nmdc:mga0wn63_313_c1_8773_12285                  EINTLPLASTER   \n",
      "1168     nmdc:mga0wn63_340107_c1_3_665                  EINTLPLASTER   \n",
      "1275    nmdc:mga0wn63_1488111_c1_1_252             EQVTADLQGGVYKVPGR   \n",
      "1274    nmdc:mga0wn63_1091877_c1_2_325             EQVTADLQGGVYKVPGR   \n",
      "1536            Contaminant_K2C1_HUMAN                  FLEQQNQVLQTK   \n",
      "1537            Contaminant_K22E_HUMAN                  FLEQQNQVLQTK   \n",
      "2126    nmdc:mga0wn63_1251082_c1_1_303  IGDLILEHLDELAQLESLDNGKPFAVAR   \n",
      "2127     nmdc:mga0wn63_26396_c1_2_1000  IGDLILEHLDELAQLESLDNGKPFAVAR   \n",
      "2182    nmdc:mga0wn63_103261_c1_2_1423              IINEPTAAALAYGLDK   \n",
      "2180   nmdc:mga0wn63_85728_c1_914_1594              IINEPTAAALAYGLDK   \n",
      "2588   nmdc:mga0wn63_159720_c1_42_1082                     LAGGVAVIR   \n",
      "2589  nmdc:mga0wn63_31371_c1_2215_2907                     LAGGVAVIR   \n",
      "2680     nmdc:mga0wn63_380961_c1_2_619                   LFFFGDAQLNR   \n",
      "2681    nmdc:mga0wn63_1061116_c1_1_330                   LFFFGDAQLNR   \n",
      "2702    nmdc:mga0wn63_1079014_c1_3_314                   LFIFGDYQGTK   \n",
      "2703   nmdc:mga0wn63_5490_c1_5778_8204                   LFIFGDYQGTK   \n",
      "2830   nmdc:mga0wn63_62148_c1_869_1918           LIESPNVLYITFDNVGVGR   \n",
      "2829     nmdc:mga0wn63_946118_c1_1_354           LIESPNVLYITFDNVGVGR   \n",
      "3136    nmdc:mga0wn63_76125_c1_26_1711                     LYEFSGLFR   \n",
      "3137   nmdc:mga0wn63_9791_c1_2789_5359                     LYEFSGLFR   \n",
      "3139     nmdc:mga0wn63_47151_c1_3_1961                     LYEFSGLFR   \n",
      "3599    nmdc:mga0wn63_1024436_c1_1_324              QIAENAGEDGAVIAGK   \n",
      "3600    nmdc:mga0wn63_503369_c1_40_513              QIAENAGEDGAVIAGK   \n",
      "3630     nmdc:mga0wn63_210627_c1_1_588                    QKVTTDIATK   \n",
      "3631     nmdc:mga0wn63_69800_c1_1_1068                    QKVTTDIATK   \n",
      "4146     nmdc:mga0wn63_533187_c1_1_498           SLSTYATNPLWQVVDGPYK   \n",
      "4147     nmdc:mga0wn63_374270_c1_2_625           SLSTYATNPLWQVVDGPYK   \n",
      "4298    nmdc:mga0wn63_1386276_c1_3_278                     TADSGYLTR   \n",
      "4292  nmdc:mga0wn63_25800_c1_1001_3262                     TADSGYLTR   \n",
      "4601     nmdc:mga0wn63_68748_c1_2_1819               TPPTPAFPFPNDVGK   \n",
      "4602    nmdc:mga0wn63_1032246_c1_1_336               TPPTPAFPFPNDVGK   \n",
      "4922   nmdc:mga0wn63_8468_c1_3785_5431                  VGAATETEMKEK   \n",
      "4923   nmdc:mga0wn63_5931_c1_2049_3674                  VGAATETEMKEK   \n",
      "4952   nmdc:mga0wn63_5931_c1_2049_3674                 VGKDGVITVEESK   \n",
      "4956  nmdc:mga0wn63_379_c1_32789_34459                 VGKDGVITVEESK   \n",
      "5281    nmdc:mga0wn63_6864_c1_432_1832              VVAEGANMPSTLEATK   \n",
      "5282      nmdc:mga0wn63_590_c1_21_1277              VVAEGANMPSTLEATK   \n",
      "5471  nmdc:mga0wn63_16480_c1_1051_4119                    YDALPHAWER   \n",
      "5469     nmdc:mga0wn63_362908_c1_2_640                    YDALPHAWER   \n",
      "\n",
      "      peptides_per_protein  proteins_per_peptide  \n",
      "908                      2                     2  \n",
      "907                      2                     2  \n",
      "1024                     4                     5  \n",
      "1025                     2                     5  \n",
      "1027                     2                     5  \n",
      "1167                     3                     2  \n",
      "1168                     2                     2  \n",
      "1275                     3                     2  \n",
      "1274                     3                     2  \n",
      "1536                    17                     2  \n",
      "1537                    13                     2  \n",
      "2126                     3                     2  \n",
      "2127                     4                     2  \n",
      "2182                     2                    12  \n",
      "2180                     2                    12  \n",
      "2588                     2                     4  \n",
      "2589                     2                     4  \n",
      "2680                     2                     2  \n",
      "2681                     3                     2  \n",
      "2702                     2                     2  \n",
      "2703                     4                     2  \n",
      "2830                     3                     2  \n",
      "2829                     2                     2  \n",
      "3136                     2                     4  \n",
      "3137                     2                     4  \n",
      "3139                     2                     4  \n",
      "3599                     3                     2  \n",
      "3600                     2                     2  \n",
      "3630                     8                     2  \n",
      "3631                     2                     2  \n",
      "4146                     2                     2  \n",
      "4147                     2                     2  \n",
      "4298                     2                     7  \n",
      "4292                     2                     7  \n",
      "4601                     5                     2  \n",
      "4602                     2                     2  \n",
      "4922                     4                     2  \n",
      "4923                     3                     2  \n",
      "4952                     3                     7  \n",
      "4956                     8                     7  \n",
      "5281                     2                     2  \n",
      "5282                     3                     2  \n",
      "5471                     3                     4  \n",
      "5469                     5                     4  \n"
     ]
    }
   ],
   "source": [
    "# - for NonDegenerate_razor_protein_list_member_count > 1 -> Degenerate_peptides_with_morethanone_unique_protein (peptide, unique_protein_count)\n",
    "# - remove peptide from filter passing peptides that match Degenerate_peptides_with_morethanone_unique_protein (filter passing being table_4?, remove all matching peptide instances or just peptide-prot pair?)\n",
    "# We now take the same base set as above but look for the NON-UNIQUE degen peptides in that set. These ones we can't make determinations about\n",
    "# since they're associated with MORE THAN ONE protein found in the non-degen protein set and will be removed from the set of filtered peptides.\n",
    "Degenerate_peptides_with_morethanone_unique_protein_to_remove_df = NonDegenerate_razor_protein_list_member_int_df[NonDegenerate_razor_protein_list_member_int_df['PeptideSequence'].duplicated(keep=False)]\n",
    "\n",
    "#write_df_excel(Degenerate_peptides_with_morethanone_unique_protein_to_remove_df, \"10, '8' dups to remove\")\n",
    "print(Degenerate_peptides_with_morethanone_unique_protein_to_remove_df)"
   ]
  },
  {
   "cell_type": "code",
   "execution_count": 16,
   "id": "af7745f1-7ee2-4a09-9e8b-947e55294a8d",
   "metadata": {},
   "outputs": [
    {
     "name": "stdout",
     "output_type": "stream",
     "text": [
      "        PeptideSequence                            Protein\n",
      "15         AADVPLAVDLFR    nmdc:mga0wn63_376314_c1_207_623\n",
      "16         AADVPLAVDLFR    nmdc:mga0wn63_39782_c1_171_1811\n",
      "17         AADVPLAVDLFR    nmdc:mga0wn63_54_c2_18859_20364\n",
      "38    AAIEEGVVPGGGVALLR    nmdc:mga0wn63_3548_c1_1950_3569\n",
      "39    AAIEEGVVPGGGVALLR      nmdc:mga0wn63_989718_c1_2_343\n",
      "...                 ...                                ...\n",
      "5642       YTWNGEITGLFK    nmdc:mga0wn63_3686_c1_7397_8134\n",
      "5650         YVESLSAYAR  nmdc:mga0wn63_1774_c1_13878_15950\n",
      "5649         YVESLSAYAR    nmdc:mga0wn63_39094_c1_630_2546\n",
      "5648         YVESLSAYAR    nmdc:mga0wn63_40181_c1_934_2508\n",
      "5647         YVESLSAYAR    nmdc:mga0wn63_482949_c1_204_530\n",
      "\n",
      "[714 rows x 2 columns]\n"
     ]
    }
   ],
   "source": [
    "# - find max peptide_per_protein_count for all remaining proteins grouped to peptide in question (remove all found peptides with a razor protein from master list?)\n",
    "# - store this as a value\n",
    "# - retrieve all proteins that match this stored value for peptide in question -> Degenerate_peptides_with_max_nonunique_peptide_count (peptide, razor_protein)\n",
    "# - practical effect: if one protein has max number or if there is a list of proteins with this max number, both situations pass\n",
    "\n",
    "max_peptide_per_protein_count = peps_with_many_proteins.copy()\n",
    "non_degenerate_peptide_set_to_remove = set(non_degenerate_razor_protein_df['PeptideSequence'])\n",
    "Degenerate_peptides_with_only_unique_protein_to_remove = set(Degenerate_peptides_with_only_unique_protein['PeptideSequence'])\n",
    "Degenerate_peptides_with_morethanone_unique_protein_to_remove_set = set(Degenerate_peptides_with_morethanone_unique_protein_to_remove_df['PeptideSequence'])\n",
    "\n",
    "# Remove all matched peptides and those we think can't be matched from filtered set of mappings\n",
    "max_peptide_per_protein_count = max_peptide_per_protein_count[~max_peptide_per_protein_count['PeptideSequence'].isin(Degenerate_peptides_with_morethanone_unique_protein_to_remove_set)]\n",
    "max_peptide_per_protein_count = max_peptide_per_protein_count[~max_peptide_per_protein_count['PeptideSequence'].isin(Degenerate_peptides_with_only_unique_protein_to_remove)]\n",
    "max_peptide_per_protein_count = max_peptide_per_protein_count[~max_peptide_per_protein_count['PeptideSequence'].isin(non_degenerate_peptide_set_to_remove)]\n",
    "\n",
    "# find the max peptides_per_protein for a grouped set of peptides, then flatten the result\n",
    "max_peptide_per_protein_count[\"max_peptides_per_protein\"] = max_peptide_per_protein_count.groupby([\"PeptideSequence\"])[\"peptides_per_protein\"].transform(\"max\")\n",
    "\n",
    "#write_df_excel(max_peptide_per_protein_count, \"11, prots_per_peps > 1 - found\")\n",
    "\n",
    "\n",
    "# Grab the peptide-protein pairs that have max peptides_per_protein.\n",
    "# the relationship will be at least:\n",
    "#    - one-to-one: peptide to maximally associated protein.\n",
    "#    - one-to-many: peptide to ALL PROTEINS whose MAX peptides_per_protein == all other max values (including 1) and are the largest\n",
    "#      in the set of peptides_per_protein values for all proteins grouped for a unique peptide.\n",
    "max_peptide_per_protein_count_df = max_peptide_per_protein_count[max_peptide_per_protein_count[\"peptides_per_protein\"] == max_peptide_per_protein_count[\"max_peptides_per_protein\"]]\n",
    "#write_df_excel(max_peptide_per_protein_count, \"12, peps_per_prots == max\")\n",
    "\n",
    "# THIRD COLLECTION OF PEPTIDE <-> RAZOR PROTEIN RELATIONSHIPS\n",
    "Degenerate_peptides_with_max_nonunique_peptide_count_df = max_peptide_per_protein_count[[\"PeptideSequence\", \"Protein\"]]\n",
    "\n",
    "#write_df_excel(Degenerate_peptides_with_max_nonunique_peptide_count_df, \"13, '12' -> RP\")\n",
    "print(Degenerate_peptides_with_max_nonunique_peptide_count_df)"
   ]
  },
  {
   "cell_type": "code",
   "execution_count": 17,
   "id": "eda0add9-cc4b-4278-83e3-3641e29dea6c",
   "metadata": {},
   "outputs": [
    {
     "name": "stdout",
     "output_type": "stream",
     "text": [
      "             PeptideSequence                        BestProtein\n",
      "0               AAAAAKSEAAPK    nmdc:mga0wn63_328416_c1_556_681\n",
      "1               AAAADAGQPLWR      nmdc:mga0wn63_731999_c1_3_410\n",
      "2               AAAADYGLPLYR   nmdc:mga0wn63_164_c1_30348_31634\n",
      "3            AAAANSDQQLQQAVR      nmdc:mga0wn63_431891_c1_2_571\n",
      "4     AAAAQAAGYFTEQILPVEVAGK      nmdc:mga0wn63_951089_c1_1_342\n",
      "...                      ...                                ...\n",
      "5642            YTWNGEITGLFK    nmdc:mga0wn63_3686_c1_7397_8134\n",
      "5650              YVESLSAYAR  nmdc:mga0wn63_1774_c1_13878_15950\n",
      "5649              YVESLSAYAR    nmdc:mga0wn63_39094_c1_630_2546\n",
      "5648              YVESLSAYAR    nmdc:mga0wn63_40181_c1_934_2508\n",
      "5647              YVESLSAYAR    nmdc:mga0wn63_482949_c1_204_530\n",
      "\n",
      "[5508 rows x 2 columns]\n"
     ]
    }
   ],
   "source": [
    "# Combine all \n",
    "all_peptides_to_razor_protein_map_df = pd.concat([non_degenerate_razor_protein_df, Degenerate_peptides_with_only_unique_protein, Degenerate_peptides_with_max_nonunique_peptide_count_df])\n",
    "all_peptides_to_razor_protein_map_df = all_peptides_to_razor_protein_map_df.rename(columns={\"Protein\": \"BestProtein\"})\n",
    "\n",
    "#write_df_excel(all_peptides_to_razor_protein_map_df, \"14, ALL RAZOR PROTEINS\", False, True)\n",
    "print(all_peptides_to_razor_protein_map_df)"
   ]
  }
 ],
 "metadata": {
  "kernelspec": {
   "display_name": "Python 3 (ipykernel)",
   "language": "python",
   "name": "python3"
  },
  "language_info": {
   "codemirror_mode": {
    "name": "ipython",
    "version": 3
   },
   "file_extension": ".py",
   "mimetype": "text/x-python",
   "name": "python",
   "nbconvert_exporter": "python",
   "pygments_lexer": "ipython3",
   "version": "3.11.9"
  }
 },
 "nbformat": 4,
 "nbformat_minor": 5
}
